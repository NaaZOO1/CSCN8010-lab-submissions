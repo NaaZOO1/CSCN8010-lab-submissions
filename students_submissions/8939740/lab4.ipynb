{
 "cells": [
  {
   "cell_type": "markdown",
   "metadata": {},
   "source": [
    "# LAB - 4"
   ]
  },
  {
   "cell_type": "code",
   "execution_count": 66,
   "metadata": {},
   "outputs": [],
   "source": [
    "from sklearn.datasets import load_diabetes\n",
    "from sklearn.model_selection import train_test_split\n",
    "from sklearn.linear_model import LinearRegression\n",
    "from sklearn.preprocessing import PolynomialFeatures\n",
    "from sklearn.metrics import r2_score, mean_absolute_percentage_error, mean_absolute_error"
   ]
  },
  {
   "cell_type": "code",
   "execution_count": 67,
   "metadata": {},
   "outputs": [],
   "source": [
    "diabetes_df = load_diabetes(as_frame=True, scaled=True)\n",
    "\n",
    "X_train_val, X_test, y_train_val, y_test = train_test_split(diabetes_df.data, diabetes_df.target, test_size=0.2, random_state=20)\n",
    "X_train, X_val, y_train, y_val = train_test_split(X_train_val, y_train_val, test_size=0.25, random_state=20)"
   ]
  },
  {
   "cell_type": "markdown",
   "metadata": {},
   "source": [
    "## Multivariate linear regression"
   ]
  },
  {
   "cell_type": "code",
   "execution_count": 68,
   "metadata": {},
   "outputs": [],
   "source": [
    "linear_model = LinearRegression()\n",
    "linear_model.fit(X_train, y_train)\n",
    "y_pred_linear = linear_model.predict(X_val)\n"
   ]
  },
  {
   "cell_type": "markdown",
   "metadata": {},
   "source": [
    "## Polynomial regression on BMI "
   ]
  },
  {
   "cell_type": "code",
   "execution_count": 69,
   "metadata": {},
   "outputs": [],
   "source": [
    "X_train_bmi = X_train[['bmi']]\n",
    "X_val_bmi = X_val[['bmi']]\n",
    "\n",
    "poly_bmi = PolynomialFeatures(degree=2)\n",
    "X_train_bmi_poly = poly_bmi.fit_transform(X_train_bmi)\n",
    "X_val_bmi_poly = poly_bmi.transform(X_val_bmi)\n",
    "\n",
    "poly_model_bmi = LinearRegression()\n",
    "poly_model_bmi.fit(X_train_bmi_poly, y_train)\n",
    "y_pred_poly_bmi = poly_model_bmi.predict(X_val_bmi_poly)"
   ]
  },
  {
   "cell_type": "markdown",
   "metadata": {},
   "source": [
    "## Multivariate polynomial regression of the 2nd degree on all variables"
   ]
  },
  {
   "cell_type": "code",
   "execution_count": 70,
   "metadata": {},
   "outputs": [],
   "source": [
    "poly_all = PolynomialFeatures(degree=2, include_bias=False)\n",
    "X_train_poly = poly_all.fit_transform(X_train)\n",
    "X_val_poly = poly_all.transform(X_val)\n",
    "\n",
    "poly_model_all = LinearRegression()\n",
    "poly_model_all.fit(X_train_poly, y_train)\n",
    "y_pred_poly_all = poly_model_all.predict(X_val_poly)"
   ]
  },
  {
   "cell_type": "code",
   "execution_count": 71,
   "metadata": {},
   "outputs": [],
   "source": [
    "r2_linear = r2_score(y_val, y_pred_linear)\n",
    "mape_linear = mean_absolute_percentage_error(y_val, y_pred_linear)\n",
    "mae_linear = mean_absolute_error(y_val, y_pred_linear)\n",
    "linear_param = X_train.shape[1] + 1"
   ]
  },
  {
   "cell_type": "code",
   "execution_count": 72,
   "metadata": {},
   "outputs": [],
   "source": [
    "r2_poly_bmi = r2_score(y_val, y_pred_poly_bmi)\n",
    "mape_poly_bmi = mean_absolute_percentage_error(y_val, y_pred_poly_bmi)\n",
    "mae_poly_bmi = mean_absolute_error(y_val, y_pred_poly_bmi)\n",
    "poly_bmi_param = len(poly_bmi.get_feature_names_out())"
   ]
  },
  {
   "cell_type": "code",
   "execution_count": 73,
   "metadata": {},
   "outputs": [],
   "source": [
    "r2_poly_all = r2_score(y_val, y_pred_poly_all)\n",
    "mape_poly_all = mean_absolute_percentage_error(y_val, y_pred_poly_all)\n",
    "mae_poly_all = mean_absolute_error(y_val, y_pred_poly_all)\n",
    "poly_all_param = len(poly_all.get_feature_names_out())"
   ]
  },
  {
   "cell_type": "code",
   "execution_count": 74,
   "metadata": {},
   "outputs": [
    {
     "name": "stdout",
     "output_type": "stream",
     "text": [
      "Multivariate Linear Regression:\n",
      "R-squared: 0.49111686743429406\n",
      "MAPE: 0.39270639394946744\n",
      "MAE: 45.378003532021346\n",
      "\n",
      "Polynomial Regression on BMI Alone:\n",
      "R-squared: 0.3588275146089469\n",
      "MAPE: 0.4405222044044443\n",
      "MAE: 49.85227333428557\n",
      "\n",
      "Multivariate Polynomial Regression of 2nd Degree on All Variables:\n",
      "R-squared: 0.0747797848943107\n",
      "MAPE: 0.46148413378085346\n",
      "MAE: 56.31045391858229\n",
      "\n",
      "Number of parameters for each model:\n",
      "Multivariate Linear Regression: 11\n",
      "Polynomial Regression on BMI Alone: 3\n",
      "Multivariate Polynomial Regression of 2nd Degree on All Variables: 65\n"
     ]
    }
   ],
   "source": [
    "print(\"Multivariate Linear Regression:\")\n",
    "print(\"R-squared:\", r2_linear)\n",
    "print(\"MAPE:\", mape_linear)\n",
    "print(\"MAE:\", mae_linear)\n",
    "\n",
    "print(\"\\nPolynomial Regression on BMI Alone:\")\n",
    "print(\"R-squared:\", r2_poly_bmi)\n",
    "print(\"MAPE:\", mape_poly_bmi)\n",
    "print(\"MAE:\", mae_poly_bmi)\n",
    "\n",
    "print(\"\\nMultivariate Polynomial Regression of 2nd Degree on All Variables:\")\n",
    "print(\"R-squared:\", r2_poly_all)\n",
    "print(\"MAPE:\", mape_poly_all)\n",
    "print(\"MAE:\", mae_poly_all)\n",
    "\n",
    "print(\"\\nNumber of parameters for each model:\")\n",
    "print(\"Multivariate Linear Regression:\", linear_param)\n",
    "print(\"Polynomial Regression on BMI Alone:\", poly_bmi_param)\n",
    "print(\"Multivariate Polynomial Regression of 2nd Degree on All Variables:\", poly_all_param)  "
   ]
  },
  {
   "cell_type": "markdown",
   "metadata": {},
   "source": [
    "### No. of parameters in each Model: \n",
    "### Multivariate Linear Regression: 11 (This has 1-Intercept term and 10-Features)\n",
    "### Polynomial Regression on BMI Alone: 3 (This has 1-Intercept term and 2-Polynomial terms)\n",
    "### Multivariate Polynomial Regression of 2nd Degree on All Variables: 65 (This has 1-Intercept term and 64-Polynomial terms)\n",
    "<br>"
   ]
  },
  {
   "cell_type": "markdown",
   "metadata": {},
   "source": [
    "### Here, Multivariate Linear Regression model is considered best among the three models. Because It has the highest R-squared value, indicating that it explains the target variable better than the other models. Also, it has the lowest MAPE and MAE values, indicating lower average percentage and absolute errors."
   ]
  }
 ],
 "metadata": {
  "kernelspec": {
   "display_name": "CSCN8010_classic_ml",
   "language": "python",
   "name": "python3"
  },
  "language_info": {
   "codemirror_mode": {
    "name": "ipython",
    "version": 3
   },
   "file_extension": ".py",
   "mimetype": "text/x-python",
   "name": "python",
   "nbconvert_exporter": "python",
   "pygments_lexer": "ipython3",
   "version": "3.10.11"
  }
 },
 "nbformat": 4,
 "nbformat_minor": 2
}
