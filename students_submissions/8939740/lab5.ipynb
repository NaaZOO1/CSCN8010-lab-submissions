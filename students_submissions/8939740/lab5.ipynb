{
 "cells": [
  {
   "cell_type": "code",
   "execution_count": 76,
   "metadata": {},
   "outputs": [],
   "source": [
    "import numpy as np\n",
    "import pandas as pd\n",
    "from sklearn.datasets import load_diabetes\n",
    "from sklearn.linear_model import LinearRegression\n",
    "from sklearn.preprocessing import PolynomialFeatures\n",
    "from sklearn.model_selection import cross_validate"
   ]
  },
  {
   "cell_type": "code",
   "execution_count": 77,
   "metadata": {},
   "outputs": [],
   "source": [
    "diabetes = load_diabetes()\n",
    "X, y = diabetes.data, diabetes.target\n",
    "\n",
    "degrees = np.arange(9)\n",
    "\n",
    "r_squared = []\n",
    "mae = []\n",
    "mape = []\n",
    "\n",
    "# Perform cross-validation for each degree\n",
    "for degree in degrees:\n",
    "    poly_features = PolynomialFeatures(degree=degree)\n",
    "    X_poly = poly_features.fit_transform(X)\n",
    "    \n",
    "    model = LinearRegression()\n",
    "    \n",
    "    scores = cross_validate(model, X_poly, y, cv=5, scoring=('r2', 'neg_mean_absolute_error', 'neg_mean_absolute_percentage_error'))\n",
    "    \n",
    "    r_squared.append(scores['test_r2'].mean())\n",
    "    mae.append(-scores['test_neg_mean_absolute_error'].mean())\n",
    "    mape.append(-scores['test_neg_mean_absolute_percentage_error'].mean())\n",
    "\n"
   ]
  },
  {
   "cell_type": "markdown",
   "metadata": {},
   "source": [
    "## Table Summarizing Cross-Validation Results"
   ]
  },
  {
   "cell_type": "code",
   "execution_count": 78,
   "metadata": {},
   "outputs": [
    {
     "data": {
      "text/html": [
       "<div>\n",
       "<style scoped>\n",
       "    .dataframe tbody tr th:only-of-type {\n",
       "        vertical-align: middle;\n",
       "    }\n",
       "\n",
       "    .dataframe tbody tr th {\n",
       "        vertical-align: top;\n",
       "    }\n",
       "\n",
       "    .dataframe thead th {\n",
       "        text-align: right;\n",
       "    }\n",
       "</style>\n",
       "<table border=\"1\" class=\"dataframe\">\n",
       "  <thead>\n",
       "    <tr style=\"text-align: right;\">\n",
       "      <th></th>\n",
       "      <th>Degree</th>\n",
       "      <th>R-Squared</th>\n",
       "      <th>MAE</th>\n",
       "      <th>MAPE</th>\n",
       "    </tr>\n",
       "  </thead>\n",
       "  <tbody>\n",
       "    <tr>\n",
       "      <th>0</th>\n",
       "      <td>0</td>\n",
       "      <td>-0.027506</td>\n",
       "      <td>66.045624</td>\n",
       "      <td>0.623622</td>\n",
       "    </tr>\n",
       "    <tr>\n",
       "      <th>1</th>\n",
       "      <td>1</td>\n",
       "      <td>0.482316</td>\n",
       "      <td>44.276499</td>\n",
       "      <td>0.394860</td>\n",
       "    </tr>\n",
       "    <tr>\n",
       "      <th>2</th>\n",
       "      <td>2</td>\n",
       "      <td>0.391502</td>\n",
       "      <td>46.612882</td>\n",
       "      <td>0.402669</td>\n",
       "    </tr>\n",
       "    <tr>\n",
       "      <th>3</th>\n",
       "      <td>3</td>\n",
       "      <td>-182.293189</td>\n",
       "      <td>342.397076</td>\n",
       "      <td>2.331786</td>\n",
       "    </tr>\n",
       "    <tr>\n",
       "      <th>4</th>\n",
       "      <td>4</td>\n",
       "      <td>-70.667516</td>\n",
       "      <td>303.158461</td>\n",
       "      <td>2.453685</td>\n",
       "    </tr>\n",
       "    <tr>\n",
       "      <th>5</th>\n",
       "      <td>5</td>\n",
       "      <td>-67.387407</td>\n",
       "      <td>295.686026</td>\n",
       "      <td>2.405233</td>\n",
       "    </tr>\n",
       "    <tr>\n",
       "      <th>6</th>\n",
       "      <td>6</td>\n",
       "      <td>-67.447482</td>\n",
       "      <td>295.631865</td>\n",
       "      <td>2.404954</td>\n",
       "    </tr>\n",
       "    <tr>\n",
       "      <th>7</th>\n",
       "      <td>7</td>\n",
       "      <td>-67.448529</td>\n",
       "      <td>295.630403</td>\n",
       "      <td>2.404952</td>\n",
       "    </tr>\n",
       "    <tr>\n",
       "      <th>8</th>\n",
       "      <td>8</td>\n",
       "      <td>-67.442355</td>\n",
       "      <td>295.583604</td>\n",
       "      <td>2.404613</td>\n",
       "    </tr>\n",
       "  </tbody>\n",
       "</table>\n",
       "</div>"
      ],
      "text/plain": [
       "   Degree   R-Squared         MAE      MAPE\n",
       "0       0   -0.027506   66.045624  0.623622\n",
       "1       1    0.482316   44.276499  0.394860\n",
       "2       2    0.391502   46.612882  0.402669\n",
       "3       3 -182.293189  342.397076  2.331786\n",
       "4       4  -70.667516  303.158461  2.453685\n",
       "5       5  -67.387407  295.686026  2.405233\n",
       "6       6  -67.447482  295.631865  2.404954\n",
       "7       7  -67.448529  295.630403  2.404952\n",
       "8       8  -67.442355  295.583604  2.404613"
      ]
     },
     "execution_count": 78,
     "metadata": {},
     "output_type": "execute_result"
    }
   ],
   "source": [
    "mean_r_squared = np.mean(r_squared)\n",
    "std_r_squared = np.std(r_squared)\n",
    "mean_mae = np.mean(mae)\n",
    "std_mae = np.std(mae)\n",
    "mean_mape = np.mean(mape)\n",
    "std_mape = np.std(mape)\n",
    "\n",
    "table = {'Degree': degrees, 'R-Squared': r_squared, 'MAE': mae, 'MAPE': mape}\n",
    "table_df = pd.DataFrame(table)\n",
    "table_df \n"
   ]
  },
  {
   "cell_type": "markdown",
   "metadata": {},
   "source": [
    "## Table Summarizing Cross-Validation Results Including Mean and Std Values"
   ]
  },
  {
   "cell_type": "code",
   "execution_count": 79,
   "metadata": {},
   "outputs": [
    {
     "data": {
      "text/html": [
       "<div>\n",
       "<style scoped>\n",
       "    .dataframe tbody tr th:only-of-type {\n",
       "        vertical-align: middle;\n",
       "    }\n",
       "\n",
       "    .dataframe tbody tr th {\n",
       "        vertical-align: top;\n",
       "    }\n",
       "\n",
       "    .dataframe thead th {\n",
       "        text-align: right;\n",
       "    }\n",
       "</style>\n",
       "<table border=\"1\" class=\"dataframe\">\n",
       "  <thead>\n",
       "    <tr style=\"text-align: right;\">\n",
       "      <th></th>\n",
       "      <th>Degree</th>\n",
       "      <th>R-Squared</th>\n",
       "      <th>MAE</th>\n",
       "      <th>MAPE</th>\n",
       "    </tr>\n",
       "  </thead>\n",
       "  <tbody>\n",
       "    <tr>\n",
       "      <th>0</th>\n",
       "      <td>0.0</td>\n",
       "      <td>-0.027506</td>\n",
       "      <td>66.045624</td>\n",
       "      <td>0.623622</td>\n",
       "    </tr>\n",
       "    <tr>\n",
       "      <th>1</th>\n",
       "      <td>1.0</td>\n",
       "      <td>0.482316</td>\n",
       "      <td>44.276499</td>\n",
       "      <td>0.394860</td>\n",
       "    </tr>\n",
       "    <tr>\n",
       "      <th>2</th>\n",
       "      <td>2.0</td>\n",
       "      <td>0.391502</td>\n",
       "      <td>46.612882</td>\n",
       "      <td>0.402669</td>\n",
       "    </tr>\n",
       "    <tr>\n",
       "      <th>3</th>\n",
       "      <td>3.0</td>\n",
       "      <td>-182.293189</td>\n",
       "      <td>342.397076</td>\n",
       "      <td>2.331786</td>\n",
       "    </tr>\n",
       "    <tr>\n",
       "      <th>4</th>\n",
       "      <td>4.0</td>\n",
       "      <td>-70.667516</td>\n",
       "      <td>303.158461</td>\n",
       "      <td>2.453685</td>\n",
       "    </tr>\n",
       "    <tr>\n",
       "      <th>5</th>\n",
       "      <td>5.0</td>\n",
       "      <td>-67.387407</td>\n",
       "      <td>295.686026</td>\n",
       "      <td>2.405233</td>\n",
       "    </tr>\n",
       "    <tr>\n",
       "      <th>6</th>\n",
       "      <td>6.0</td>\n",
       "      <td>-67.447482</td>\n",
       "      <td>295.631865</td>\n",
       "      <td>2.404954</td>\n",
       "    </tr>\n",
       "    <tr>\n",
       "      <th>7</th>\n",
       "      <td>7.0</td>\n",
       "      <td>-67.448529</td>\n",
       "      <td>295.630403</td>\n",
       "      <td>2.404952</td>\n",
       "    </tr>\n",
       "    <tr>\n",
       "      <th>8</th>\n",
       "      <td>8.0</td>\n",
       "      <td>-67.442355</td>\n",
       "      <td>295.583604</td>\n",
       "      <td>2.404613</td>\n",
       "    </tr>\n",
       "    <tr>\n",
       "      <th>mean</th>\n",
       "      <td></td>\n",
       "      <td>-57.982240</td>\n",
       "      <td>220.558049</td>\n",
       "      <td>1.758486</td>\n",
       "    </tr>\n",
       "    <tr>\n",
       "      <th>std</th>\n",
       "      <td></td>\n",
       "      <td>53.909008</td>\n",
       "      <td>119.916061</td>\n",
       "      <td>0.910995</td>\n",
       "    </tr>\n",
       "  </tbody>\n",
       "</table>\n",
       "</div>"
      ],
      "text/plain": [
       "     Degree   R-Squared         MAE      MAPE\n",
       "0       0.0   -0.027506   66.045624  0.623622\n",
       "1       1.0    0.482316   44.276499  0.394860\n",
       "2       2.0    0.391502   46.612882  0.402669\n",
       "3       3.0 -182.293189  342.397076  2.331786\n",
       "4       4.0  -70.667516  303.158461  2.453685\n",
       "5       5.0  -67.387407  295.686026  2.405233\n",
       "6       6.0  -67.447482  295.631865  2.404954\n",
       "7       7.0  -67.448529  295.630403  2.404952\n",
       "8       8.0  -67.442355  295.583604  2.404613\n",
       "mean         -57.982240  220.558049  1.758486\n",
       "std           53.909008  119.916061  0.910995"
      ]
     },
     "execution_count": 79,
     "metadata": {},
     "output_type": "execute_result"
    }
   ],
   "source": [
    "table2 = {'Degree': degrees, 'R-Squared': r_squared, 'MAE': mae, 'MAPE': mape}\n",
    "table2_df = pd.DataFrame(table2)\n",
    "table2_df.loc['mean'] = table2_df.mean()\n",
    "table2_df.loc['std'] = table2_df.std()\n",
    "table2_df.iloc[-2:, 0] = ''\n",
    "table2_df "
   ]
  },
  {
   "cell_type": "markdown",
   "metadata": {},
   "source": [
    "## Finding which degree of model exhibits highest performance"
   ]
  },
  {
   "cell_type": "code",
   "execution_count": 86,
   "metadata": {},
   "outputs": [
    {
     "data": {
      "text/plain": [
       "1"
      ]
     },
     "execution_count": 86,
     "metadata": {},
     "output_type": "execute_result"
    }
   ],
   "source": [
    "best_r_squared_index = table_df['R-Squared'].idxmax()\n",
    "best_mae_index = table_df['MAE'].idxmin()\n",
    "best_mape_index = table_df['MAPE'].idxmin()\n",
    "\n",
    "if best_r_squared_index == best_mae_index == best_mape_index:\n",
    "    best_model_index = best_r_squared_index\n",
    "else:\n",
    "    best_model_index = set([best_r_squared_index, best_mae_index, best_mape_index]).pop()\n",
    "\n",
    "best_model_degree = table_df.loc[best_model_index, 'Degree']\n",
    "best_model_degree"
   ]
  },
  {
   "cell_type": "markdown",
   "metadata": {},
   "source": [
    "### Here, degree of 1 has highest performance beacuse it has highest R-squared values and Lowest MAE and MAPE"
   ]
  },
  {
   "cell_type": "markdown",
   "metadata": {},
   "source": [
    "## Finding Which degree of model has lowest performance"
   ]
  },
  {
   "cell_type": "code",
   "execution_count": 85,
   "metadata": {},
   "outputs": [
    {
     "data": {
      "text/plain": [
       "3"
      ]
     },
     "execution_count": 85,
     "metadata": {},
     "output_type": "execute_result"
    }
   ],
   "source": [
    "worst_r_squared_index = table_df['R-Squared'].idxmin()\n",
    "worst_mae_index = table_df['MAE'].idxmax()\n",
    "worst_mape_index = table_df['MAPE'].idxmax()\n",
    "\n",
    "if worst_r_squared_index == worst_mae_index == worst_mape_index:\n",
    "    worst_model_index = worst_r_squared_index\n",
    "else:\n",
    "    worst_model_index = set([worst_r_squared_index, worst_mae_index, worst_mape_index]).pop()\n",
    "\n",
    "worst_model_degree = table_df.loc[worst_model_index, 'Degree']\n",
    "worst_model_degree"
   ]
  },
  {
   "cell_type": "markdown",
   "metadata": {},
   "source": [
    "### Here, degree of 3 has lowest performance"
   ]
  }
 ],
 "metadata": {
  "kernelspec": {
   "display_name": "CSCN8010_classic_ml",
   "language": "python",
   "name": "python3"
  },
  "language_info": {
   "codemirror_mode": {
    "name": "ipython",
    "version": 3
   },
   "file_extension": ".py",
   "mimetype": "text/x-python",
   "name": "python",
   "nbconvert_exporter": "python",
   "pygments_lexer": "ipython3",
   "version": "3.10.11"
  }
 },
 "nbformat": 4,
 "nbformat_minor": 2
}
